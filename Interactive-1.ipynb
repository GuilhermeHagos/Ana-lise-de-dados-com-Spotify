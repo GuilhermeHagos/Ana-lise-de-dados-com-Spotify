{
 "cells": [
  {
   "cell_type": "markdown",
   "metadata": {},
   "source": [
    "Connected to Python 3.11.9"
   ]
  },
  {
   "cell_type": "code",
   "execution_count": 1,
   "id": "72a87a00-77c7-46f4-afaf-20f49135087a",
   "metadata": {},
   "outputs": [
    {
     "ename": "ModuleNotFoundError",
     "evalue": "No module named 'spotipy'",
     "output_type": "error",
     "traceback": [
      "\u001b[1;31m---------------------------------------------------------------------------\u001b[0m",
      "\u001b[1;31mModuleNotFoundError\u001b[0m                       Traceback (most recent call last)",
      "File \u001b[1;32mUntitled-1:2\u001b[0m\n\u001b[0;32m      1\u001b[0m \u001b[39m# %%\u001b[39;00m\n\u001b[1;32m----> 2\u001b[0m \u001b[39mimport\u001b[39;00m \u001b[39mspotipy\u001b[39;00m\n\u001b[0;32m      3\u001b[0m \u001b[39mimport\u001b[39;00m \u001b[39mspotipy\u001b[39;00m\u001b[39m.\u001b[39;00m\u001b[39mutil\u001b[39;00m \u001b[39mas\u001b[39;00m \u001b[39mutil\u001b[39;00m\n\u001b[0;32m      4\u001b[0m \u001b[39mfrom\u001b[39;00m \u001b[39mspotipy\u001b[39;00m\u001b[39m.\u001b[39;00m\u001b[39moauth2\u001b[39;00m \u001b[39mimport\u001b[39;00m SpotifyClientCredentials\n",
      "\u001b[1;31mModuleNotFoundError\u001b[0m: No module named 'spotipy'"
     ]
    }
   ],
   "source": [
    "import spotipy\n",
    "import spotipy.util as util\n",
    "from spotipy.oauth2 import SpotifyClientCredentials"
   ]
  },
  {
   "cell_type": "code",
   "execution_count": 2,
   "metadata": {},
   "outputs": [
    {
     "name": "stdout",
     "output_type": "stream",
     "text": [
      "Collecting spotipy\n",
      "  Downloading spotipy-2.24.0-py3-none-any.whl.metadata (4.9 kB)\n",
      "Collecting redis>=3.5.3 (from spotipy)\n",
      "  Downloading redis-5.0.7-py3-none-any.whl.metadata (9.3 kB)\n",
      "Collecting requests>=2.25.0 (from spotipy)\n",
      "  Downloading requests-2.32.3-py3-none-any.whl.metadata (4.6 kB)\n",
      "Collecting urllib3>=1.26.0 (from spotipy)\n",
      "  Downloading urllib3-2.2.2-py3-none-any.whl.metadata (6.4 kB)\n",
      "Collecting charset-normalizer<4,>=2 (from requests>=2.25.0->spotipy)\n",
      "  Downloading charset_normalizer-3.3.2-cp311-cp311-win_amd64.whl.metadata (34 kB)\n",
      "Collecting idna<4,>=2.5 (from requests>=2.25.0->spotipy)\n",
      "  Downloading idna-3.7-py3-none-any.whl.metadata (9.9 kB)\n",
      "Collecting certifi>=2017.4.17 (from requests>=2.25.0->spotipy)\n",
      "  Downloading certifi-2024.7.4-py3-none-any.whl.metadata (2.2 kB)\n",
      "Downloading spotipy-2.24.0-py3-none-any.whl (30 kB)\n",
      "Downloading redis-5.0.7-py3-none-any.whl (252 kB)\n",
      "   ---------------------------------------- 0.0/252.1 kB ? eta -:--:--\n",
      "   --------------------------------------- 252.1/252.1 kB 15.1 MB/s eta 0:00:00\n",
      "Downloading requests-2.32.3-py3-none-any.whl (64 kB)\n",
      "   ---------------------------------------- 0.0/64.9 kB ? eta -:--:--\n",
      "   ---------------------------------------- 64.9/64.9 kB ? eta 0:00:00\n",
      "Downloading urllib3-2.2.2-py3-none-any.whl (121 kB)\n",
      "   ---------------------------------------- 0.0/121.4 kB ? eta -:--:--\n",
      "   ---------------------------------------- 121.4/121.4 kB ? eta 0:00:00\n",
      "Downloading certifi-2024.7.4-py3-none-any.whl (162 kB)\n",
      "   ---------------------------------------- 0.0/163.0 kB ? eta -:--:--\n",
      "   ---------------------------------------- 163.0/163.0 kB 9.5 MB/s eta 0:00:00\n",
      "Downloading charset_normalizer-3.3.2-cp311-cp311-win_amd64.whl (99 kB)\n",
      "   ---------------------------------------- 0.0/99.9 kB ? eta -:--:--\n",
      "   ---------------------------------------- 99.9/99.9 kB ? eta 0:00:00\n",
      "Downloading idna-3.7-py3-none-any.whl (66 kB)\n",
      "   ---------------------------------------- 0.0/66.8 kB ? eta -:--:--\n",
      "   ---------------------------------------- 66.8/66.8 kB 3.8 MB/s eta 0:00:00\n",
      "Installing collected packages: urllib3, redis, idna, charset-normalizer, certifi, requests, spotipy\n",
      "Successfully installed certifi-2024.7.4 charset-normalizer-3.3.2 idna-3.7 redis-5.0.7 requests-2.32.3 spotipy-2.24.0 urllib3-2.2.2\n",
      "Note: you may need to restart the kernel to use updated packages.\n"
     ]
    },
    {
     "name": "stderr",
     "output_type": "stream",
     "text": [
      "\n",
      "[notice] A new release of pip is available: 24.0 -> 24.1.2\n",
      "[notice] To update, run: C:\\Users\\hagos\\AppData\\Local\\Microsoft\\WindowsApps\\PythonSoftwareFoundation.Python.3.11_qbz5n2kfra8p0\\python.exe -m pip install --upgrade pip\n"
     ]
    }
   ],
   "source": [
    "pip install spotipy\n"
   ]
  },
  {
   "cell_type": "code",
   "execution_count": 3,
   "id": "25142c9a-9f65-4159-8187-d50311dbae04",
   "metadata": {},
   "outputs": [],
   "source": [
    "import spotipy\n",
    "import spotipy.util as util\n",
    "from spotipy.oauth2 import SpotifyClientCredentials"
   ]
  },
  {
   "cell_type": "code",
   "execution_count": 4,
   "id": "436894fe-c095-4a10-b8be-04f2bbc9982d",
   "metadata": {},
   "outputs": [],
   "source": [
    "import spotipy\n",
    "import spotipy.util as util\n",
    "from spotipy.oauth2 import SpotifyClientCredentials"
   ]
  },
  {
   "cell_type": "code",
   "execution_count": 5,
   "id": "88adef76-ca07-42ec-8f8b-5124008d776e",
   "metadata": {},
   "outputs": [],
   "source": [
    "import spotipy\n",
    "import spotipy.util as util\n",
    "from spotipy.oauth2 import SpotifyClientCredentials"
   ]
  },
  {
   "cell_type": "code",
   "execution_count": 6,
   "id": "aee7c7bd-9374-4115-8ce7-1d9727fc565e",
   "metadata": {},
   "outputs": [],
   "source": [
    "import spotipy\n",
    "import spotipy.util as util\n",
    "from spotipy.oauth2 import SpotifyClientCredentials\n",
    "import pandas as pd"
   ]
  },
  {
   "cell_type": "code",
   "execution_count": 7,
   "id": "c09b34de-a70a-47a5-bd30-e04ad0b7aa66",
   "metadata": {},
   "outputs": [],
   "source": [
    "##import spotipy\n",
    "##import spotipy.util as util\n",
    "##from spotipy.oauth2 import SpotifyClientCredentials\n",
    "import pandas as pd\n",
    "import requests\n",
    "import os"
   ]
  },
  {
   "cell_type": "code",
   "execution_count": 8,
   "id": "406f2fa1-f4ea-4624-af60-871e0938f3e4",
   "metadata": {},
   "outputs": [],
   "source": [
    "##import spotipy\n",
    "##import spotipy.util as util\n",
    "##from spotipy.oauth2 import SpotifyClientCredentials\n",
    "import pandas as pd\n",
    "import requests"
   ]
  },
  {
   "cell_type": "code",
   "execution_count": 9,
   "id": "f152078b-d053-4f47-a861-90b466c859af",
   "metadata": {},
   "outputs": [],
   "source": [
    "# Adicionando credenciais de app do Spotify para solicitar token de acesso a API\n",
    "# Inserir informações de acordo com app criado no Spotify\n",
    "client_id = '5f229361801a4b62a9cf37e0ae65c5a2'\n",
    "client_secret = '4691930e87594fa78f3f55b68620e16e'\n",
    "redirect_uri = 'google.com.br'"
   ]
  },
  {
   "cell_type": "code",
   "execution_count": 10,
   "id": "2db5b0c8-c386-44ff-9c56-9793a1cf9042",
   "metadata": {},
   "outputs": [
    {
     "ename": "NameError",
     "evalue": "name 'base64' is not defined",
     "output_type": "error",
     "traceback": [
      "\u001b[1;31m---------------------------------------------------------------------------\u001b[0m",
      "\u001b[1;31mNameError\u001b[0m                                 Traceback (most recent call last)",
      "File \u001b[1;32me:\\Programinhas\\GitHub_Projects\\Análise de dados com Spotify\\Coleta de dados.py:4\u001b[0m\n\u001b[0;32m      1\u001b[0m \u001b[39m# %%\u001b[39;00m\n\u001b[0;32m      2\u001b[0m \u001b[39m# codiificar credenciais em base 64\u001b[39;00m\n\u001b[0;32m      3\u001b[0m credentials \u001b[39m=\u001b[39m \u001b[39mf\u001b[39m\u001b[39m'\u001b[39m\u001b[39m{\u001b[39;00mclient_id\u001b[39m}\u001b[39;00m\u001b[39m:\u001b[39m\u001b[39m{\u001b[39;00mclient_secret\u001b[39m}\u001b[39;00m\u001b[39m'\u001b[39m\n\u001b[1;32m----> 4\u001b[0m encoded_credentials \u001b[39m=\u001b[39m base64\u001b[39m.\u001b[39mb64encode(credentials\u001b[39m.\u001b[39mencode())\u001b[39m.\u001b[39mdecode()\n",
      "\u001b[1;31mNameError\u001b[0m: name 'base64' is not defined"
     ]
    }
   ],
   "source": [
    "# codiificar credenciais em base 64\n",
    "credentials = f'{client_id}:{client_secret}'\n",
    "encoded_credentials = base64.b64encode(credentials.encode()).decode()"
   ]
  },
  {
   "cell_type": "code",
   "execution_count": 11,
   "id": "164019c7-e026-4212-b8a7-f51c29af3d94",
   "metadata": {},
   "outputs": [],
   "source": [
    "##import spotipy\n",
    "##import spotipy.util as util\n",
    "##from spotipy.oauth2 import SpotifyClientCredentials\n",
    "import pandas as pd\n",
    "import requests\n",
    "import base64"
   ]
  },
  {
   "cell_type": "code",
   "execution_count": 12,
   "id": "fa7fb003-a724-4cb3-a7f8-f0f4315918e2",
   "metadata": {},
   "outputs": [],
   "source": [
    "# codiificar credenciais em base 64\n",
    "credentials = f'{client_id}:{client_secret}'\n",
    "encoded_credentials = base64.b64encode(credentials.encode()).decode()"
   ]
  },
  {
   "cell_type": "code",
   "execution_count": 13,
   "id": "6a75ad91-3da4-42d9-89d8-76bc9ee4e9bf",
   "metadata": {},
   "outputs": [],
   "source": [
    "#Headers e dados a serem passados na solicitação\n",
    "\n",
    "headers = {\n",
    "    'Authorization': f'Basic{encoded_credentials}',\n",
    "    'Content-Type': 'application/x-www-form-urlencoded'\n",
    "}\n",
    "\n",
    "data = {\n",
    "    'grant_type': 'client_credentials'\n",
    "}"
   ]
  },
  {
   "cell_type": "code",
   "execution_count": 14,
   "id": "521a011f-4a58-45bf-ace9-7a57f3c278ae",
   "metadata": {},
   "outputs": [],
   "source": [
    "# enviando solicitação via POST\n",
    "response = requests.post('https://accounts.spotify.com/api/token',headers = headers,data = data)"
   ]
  },
  {
   "cell_type": "code",
   "execution_count": 15,
   "id": "b20c26ff-e4da-4313-a3f0-2ea83a1ea8dd",
   "metadata": {},
   "outputs": [
    {
     "name": "stdout",
     "output_type": "stream",
     "text": [
      "Failed to retrieve access token: 400\n",
      "{'error': 'invalid_client'}\n"
     ]
    }
   ],
   "source": [
    "if response.status_code ==200:\n",
    "    token_info = response.json()\n",
    "    access_token = token_info['access_token']\n",
    "    print(f'Access Token: {access_token}')\n",
    "else:\n",
    "    print(f\"Failed to retrieve access token: {response.status_code}\")\n",
    "    print(response.json())"
   ]
  },
  {
   "cell_type": "code",
   "execution_count": 16,
   "id": "e2cd66aa-0321-4c6b-afe4-127367091981",
   "metadata": {},
   "outputs": [],
   "source": [
    "# Adicionando credenciais de app do Spotify para solicitar token de acesso a API\n",
    "# Inserir informações de acordo com app criado no Spotify\n",
    "client_id = '5f229361801a4b62a9cf37e0ae65c5a2'\n",
    "client_secret = '4691930e87594fa78f3f55b68620e16e'"
   ]
  },
  {
   "cell_type": "code",
   "execution_count": 17,
   "id": "e95a0728-ec70-46e8-8490-9fbc32ec17d9",
   "metadata": {},
   "outputs": [],
   "source": [
    "# codiificar credenciais em base 64\n",
    "credentials = f'{client_id}:{client_secret}'\n",
    "encoded_credentials = base64.b64encode(credentials.encode()).decode()"
   ]
  },
  {
   "cell_type": "code",
   "execution_count": 18,
   "id": "3e9f41a8-2610-44f7-97b9-532928757d13",
   "metadata": {},
   "outputs": [],
   "source": [
    "#Headers e dados a serem passados na solicitação\n",
    "\n",
    "headers = {\n",
    "    'Authorization': f'Basic{encoded_credentials}',\n",
    "    'Content-Type': 'application/x-www-form-urlencoded'\n",
    "}\n",
    "\n",
    "data = {\n",
    "    'grant_type': 'client_credentials'\n",
    "}"
   ]
  },
  {
   "cell_type": "code",
   "execution_count": 19,
   "id": "7a868ed8-ee98-432b-8960-00a392adc5d1",
   "metadata": {},
   "outputs": [],
   "source": [
    "# enviando solicitação via POST\n",
    "response = requests.post('https://accounts.spotify.com/api/token',headers = headers,data = data)"
   ]
  },
  {
   "cell_type": "code",
   "execution_count": 20,
   "id": "84833af3-4884-43d6-ad6e-65fc53ecccef",
   "metadata": {},
   "outputs": [
    {
     "name": "stdout",
     "output_type": "stream",
     "text": [
      "Failed to retrieve access token: 400\n",
      "{'error': 'invalid_client'}\n"
     ]
    }
   ],
   "source": [
    "if response.status_code ==200:\n",
    "    token_info = response.json()\n",
    "    access_token = token_info['access_token']\n",
    "    print(f'Access Token: {access_token}')\n",
    "else:\n",
    "    print(f\"Failed to retrieve access token: {response.status_code}\")\n",
    "    print(response.json())"
   ]
  },
  {
   "cell_type": "code",
   "execution_count": 21,
   "id": "b2afda01-61f0-43c0-bd89-aa487478240c",
   "metadata": {},
   "outputs": [],
   "source": [
    "# codiificar credenciais em base 64\n",
    "credentials = f\"{client_id}:{client_secret}\"\n",
    "encoded_credentials = base64.b64encode(credentials.encode()).decode()"
   ]
  },
  {
   "cell_type": "code",
   "execution_count": 22,
   "id": "30d3038e-3426-4a96-958e-5923ab8a0065",
   "metadata": {},
   "outputs": [],
   "source": [
    "#Headers e dados a serem passados na solicitação\n",
    "\n",
    "headers = {\n",
    "    'Authorization': f'Basic{encoded_credentials}',\n",
    "    'Content-Type': 'application/x-www-form-urlencoded'\n",
    "}\n",
    "\n",
    "data = {\n",
    "    'grant_type': 'client_credentials'\n",
    "}"
   ]
  },
  {
   "cell_type": "code",
   "execution_count": 23,
   "id": "4444503a-7591-4086-8ab2-a428b5a475a5",
   "metadata": {},
   "outputs": [],
   "source": [
    "# enviando solicitação via POST\n",
    "response = requests.post('https://accounts.spotify.com/api/token',headers = headers,data = data)"
   ]
  },
  {
   "cell_type": "code",
   "execution_count": 24,
   "id": "f09113ee-8f23-4393-9e82-bfa28c400cfd",
   "metadata": {},
   "outputs": [
    {
     "name": "stdout",
     "output_type": "stream",
     "text": [
      "Failed to retrieve access token: 400\n",
      "{'error': 'invalid_client'}\n"
     ]
    }
   ],
   "source": [
    "if response.status_code ==200:\n",
    "    token_info = response.json()\n",
    "    access_token = token_info['access_token']\n",
    "    print(f'Access Token: {access_token}')\n",
    "else:\n",
    "    print(f\"Failed to retrieve access token: {response.status_code}\")\n",
    "    print(response.json())"
   ]
  },
  {
   "cell_type": "code",
   "execution_count": 25,
   "id": "1f441094-ae63-4c01-ae83-2ce90b5ea3cd",
   "metadata": {},
   "outputs": [],
   "source": [
    "#Headers e dados a serem passados na solicitação\n",
    "\n",
    "headers = {\n",
    "    'Authorization': f'Basic {encoded_credentials}',\n",
    "    'Content-Type': 'application/x-www-form-urlencoded'\n",
    "}\n",
    "data = {\n",
    "    'grant_type': 'client_credentials'\n",
    "}"
   ]
  },
  {
   "cell_type": "code",
   "execution_count": 26,
   "id": "f564a69a-2e12-4d37-bf83-4ade15846501",
   "metadata": {},
   "outputs": [],
   "source": [
    "# enviando solicitação via POST\n",
    "response = requests.post('https://accounts.spotify.com/api/token',headers = headers,data = data)"
   ]
  },
  {
   "cell_type": "code",
   "execution_count": 27,
   "id": "b1056470-fdf4-485d-b9e2-93606ed254eb",
   "metadata": {},
   "outputs": [
    {
     "name": "stdout",
     "output_type": "stream",
     "text": [
      "Access Token: BQAEHoGjBG4cJWJ1wdtO3VIBwCc9OVgHFAlBaD0RfxKTF5RbS5nUDwJqozkW4pomzT3VISR7WFFsCZy-1-aZNnRmgRgxkUMW9K3x4SFhYEomNLLIkqo\n"
     ]
    }
   ],
   "source": [
    "if response.status_code ==200:\n",
    "    token_info = response.json()\n",
    "    access_token = token_info['access_token']\n",
    "    print(f'Access Token: {access_token}')\n",
    "else:\n",
    "    print(f\"Failed to retrieve access token: {response.status_code}\")\n",
    "    print(response.json())"
   ]
  },
  {
   "cell_type": "code",
   "execution_count": 28,
   "id": "3808180e-90bd-453f-96fb-b7fc6940c81b",
   "metadata": {},
   "outputs": [],
   "source": [
    "#Headers e dados a serem passados na solicitação\n",
    "\n",
    "headers = {\n",
    "    'Authorization': f'Basic {encoded_credentials}',\n",
    "    'Content-Type': 'application/x-www-form-urlencoded'\n",
    "}\n",
    "data = {\n",
    "    'grant_type': 'client_credentials'\n",
    "}"
   ]
  },
  {
   "cell_type": "code",
   "execution_count": 29,
   "id": "35a056d9-10d4-42a1-8e91-1c48ca0137e5",
   "metadata": {},
   "outputs": [],
   "source": [
    "# enviando solicitação via POST\n",
    "response = requests.post('https://accounts.spotify.com/api/token',headers = headers,data = data)"
   ]
  },
  {
   "cell_type": "code",
   "execution_count": 30,
   "id": "ec6d4e11-68e8-482c-a2ea-a8d09c7c9d8e",
   "metadata": {},
   "outputs": [
    {
     "name": "stdout",
     "output_type": "stream",
     "text": [
      "Access Token: BQB1hCZM0KnrVmtdsLRtOUp_a6cvMgQhE7VfJjFFQk9lS_zrpbaHhruAs6mBMjVWLbMBVSOfmmnfw9O3wA92uYOJikfqzNXqBSkIMrvUZKIyVOn26NU\n"
     ]
    }
   ],
   "source": [
    "if response.status_code ==200:\n",
    "    token_info = response.json()\n",
    "    access_token = token_info['access_token']\n",
    "    print(f'Access Token: {access_token}')\n",
    "else:\n",
    "    print(f\"Failed to retrieve access token: {response.status_code}\")\n",
    "    print(response.json())"
   ]
  }
 ],
 "metadata": {
  "kernelspec": {
   "display_name": "Python 3",
   "language": "python",
   "name": "python3"
  },
  "language_info": {
   "codemirror_mode": {
    "name": "ipython",
    "version": 3
   },
   "file_extension": ".py",
   "mimetype": "text/x-python",
   "name": "python",
   "nbconvert_exporter": "python",
   "pygments_lexer": "ipython3",
   "version": "3.11.9"
  }
 },
 "nbformat": 4,
 "nbformat_minor": 2
}
